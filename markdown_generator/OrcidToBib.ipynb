{
 "cells": [
  {
   "cell_type": "code",
   "execution_count": 25,
   "id": "01f0c5c2-619a-48e0-bb7c-e5e0be009f0e",
   "metadata": {},
   "outputs": [],
   "source": [
    "orcid = '0000-0002-1889-6103' # Fill your orcid here"
   ]
  },
  {
   "cell_type": "code",
   "execution_count": 26,
   "id": "2fe4bc4e-4574-4322-8b18-0c4d33a749fa",
   "metadata": {},
   "outputs": [],
   "source": [
    "import requests"
   ]
  },
  {
   "cell_type": "markdown",
   "id": "44a8b6cd-4034-4fc4-85a8-e3431dc564f1",
   "metadata": {},
   "source": [
    "We use the `/works` api to list all works related to the orcid. This gives a summary of all works, so citation information is not included. We collect the `put-code` of all works to retrieve the citation information later."
   ]
  },
  {
   "cell_type": "code",
   "execution_count": 27,
   "id": "3b04331e-4149-4ca3-a0aa-89e3ba892723",
   "metadata": {},
   "outputs": [
    {
     "name": "stdout",
     "output_type": "stream",
     "text": [
      "record is {'last-modified-date': {'value': 1739503085906}, 'group': [{'last-modified-date': {'value': 1739503080273}, 'external-ids': {'external-id': []}, 'work-summary': [{'put-code': 157167252, 'created-date': {'value': 1712548103280}, 'last-modified-date': {'value': 1739503080273}, 'source': {'source-orcid': {'uri': 'https://orcid.org/0000-0002-1889-6103', 'path': '0000-0002-1889-6103', 'host': 'orcid.org'}, 'source-client-id': None, 'source-name': {'value': 'Zhu Xianyu'}, 'assertion-origin-orcid': None, 'assertion-origin-client-id': None, 'assertion-origin-name': None}, 'title': {'title': {'value': 'SWattention: designing fast and memory-efficient attention for a new Sunway Supercomputer'}, 'subtitle': None, 'translated-title': None}, 'external-ids': {'external-id': []}, 'url': None, 'type': 'journal-article', 'publication-date': {'year': {'value': '2024'}, 'month': None, 'day': None}, 'journal-title': {'value': 'The Journal of Supercomputing'}, 'visibility': 'public', 'path': '/0000-0002-1889-6103/work/157167252', 'display-index': '1'}]}, {'last-modified-date': {'value': 1739503081768}, 'external-ids': {'external-id': [{'external-id-type': 'doi', 'external-id-value': '10.1109/TCBB.2022.3191854', 'external-id-normalized': {'value': '10.1109/tcbb.2022.3191854', 'transient': True}, 'external-id-normalized-error': None, 'external-id-url': {'value': 'https://doi.org/10.1109/TCBB.2022.3191854'}, 'external-id-relationship': 'self'}]}, 'work-summary': [{'put-code': 157167216, 'created-date': {'value': 1712547933336}, 'last-modified-date': {'value': 1739503081768}, 'source': {'source-orcid': None, 'source-client-id': {'uri': 'https://orcid.org/client/0000-0001-9884-1913', 'path': '0000-0001-9884-1913', 'host': 'orcid.org'}, 'source-name': {'value': 'Crossref'}, 'assertion-origin-orcid': None, 'assertion-origin-client-id': None, 'assertion-origin-name': None}, 'title': {'title': {'value': 'LAD-Net: A Novel Light Weight Model for Early Apple Leaf Pests and Diseases Classification'}, 'subtitle': None, 'translated-title': None}, 'external-ids': {'external-id': [{'external-id-type': 'doi', 'external-id-value': '10.1109/TCBB.2022.3191854', 'external-id-normalized': {'value': '10.1109/tcbb.2022.3191854', 'transient': True}, 'external-id-normalized-error': None, 'external-id-url': {'value': 'https://doi.org/10.1109/TCBB.2022.3191854'}, 'external-id-relationship': 'self'}]}, 'url': {'value': 'https://doi.org/10.1109/TCBB.2022.3191854'}, 'type': 'journal-article', 'publication-date': {'year': {'value': '2023'}, 'month': {'value': '03'}, 'day': {'value': '01'}}, 'journal-title': {'value': 'IEEE/ACM Transactions on Computational Biology and Bioinformatics'}, 'visibility': 'public', 'path': '/0000-0002-1889-6103/work/157167216', 'display-index': '0'}]}, {'last-modified-date': {'value': 1739503083144}, 'external-ids': {'external-id': []}, 'work-summary': [{'put-code': 157167250, 'created-date': {'value': 1712548103267}, 'last-modified-date': {'value': 1739503083144}, 'source': {'source-orcid': {'uri': 'https://orcid.org/0000-0002-1889-6103', 'path': '0000-0002-1889-6103', 'host': 'orcid.org'}, 'source-client-id': None, 'source-name': {'value': 'Zhu Xianyu'}, 'assertion-origin-orcid': None, 'assertion-origin-client-id': None, 'assertion-origin-name': None}, 'title': {'title': {'value': 'Apple-YOLO: A novel mobile terminal detector based on YOLOv5 for early apple leaf diseases'}, 'subtitle': None, 'translated-title': None}, 'external-ids': {'external-id': []}, 'url': None, 'type': 'conference-paper', 'publication-date': {'year': {'value': '2022'}, 'month': None, 'day': None}, 'journal-title': {'value': '2022 IEEE 46th Annual Computers, Software, and Applications Conference (COMPSAC)'}, 'visibility': 'public', 'path': '/0000-0002-1889-6103/work/157167250', 'display-index': '1'}]}, {'last-modified-date': {'value': 1739503084562}, 'external-ids': {'external-id': []}, 'work-summary': [{'put-code': 157167251, 'created-date': {'value': 1712548103268}, 'last-modified-date': {'value': 1739503084562}, 'source': {'source-orcid': {'uri': 'https://orcid.org/0000-0002-1889-6103', 'path': '0000-0002-1889-6103', 'host': 'orcid.org'}, 'source-client-id': None, 'source-name': {'value': 'Zhu Xianyu'}, 'assertion-origin-orcid': None, 'assertion-origin-client-id': None, 'assertion-origin-name': None}, 'title': {'title': {'value': '面向移动端的苹果叶部病虫害轻量级识别模型.'}, 'subtitle': None, 'translated-title': None}, 'external-ids': {'external-id': []}, 'url': None, 'type': 'journal-article', 'publication-date': {'year': {'value': '2022'}, 'month': None, 'day': None}, 'journal-title': {'value': 'Transactions of the Chinese Society of Agricultural Engineering'}, 'visibility': 'public', 'path': '/0000-0002-1889-6103/work/157167251', 'display-index': '1'}]}, {'last-modified-date': {'value': 1739503085906}, 'external-ids': {'external-id': []}, 'work-summary': [{'put-code': 157167253, 'created-date': {'value': 1712548103293}, 'last-modified-date': {'value': 1739503085906}, 'source': {'source-orcid': {'uri': 'https://orcid.org/0000-0002-1889-6103', 'path': '0000-0002-1889-6103', 'host': 'orcid.org'}, 'source-client-id': None, 'source-name': {'value': 'Zhu Xianyu'}, 'assertion-origin-orcid': None, 'assertion-origin-client-id': None, 'assertion-origin-name': None}, 'title': {'title': {'value': 'CGAN-IRB: a novel data augmentation method for apple leaf diseases'}, 'subtitle': None, 'translated-title': None}, 'external-ids': {'external-id': []}, 'url': None, 'type': 'conference-paper', 'publication-date': {'year': {'value': '2021'}, 'month': None, 'day': None}, 'journal-title': {'value': '2021 IEEE 45th Annual Computers, Software, and Applications Conference (COMPSAC)'}, 'visibility': 'public', 'path': '/0000-0002-1889-6103/work/157167253', 'display-index': '1'}]}], 'path': '/0000-0002-1889-6103/works'}\n"
     ]
    }
   ],
   "source": [
    "response = requests.get('https://pub.orcid.org/v3.0/{}/works'.format(orcid),\n",
    "                        headers={\"Accept\": \"application/orcid+json\" })\n",
    "record = response.json()\n",
    "print(f'record is {record}')"
   ]
  },
  {
   "cell_type": "code",
   "execution_count": 28,
   "id": "16f7c42d-623b-421a-8d87-bbb389313e3b",
   "metadata": {
    "scrolled": true
   },
   "outputs": [
    {
     "name": "stdout",
     "output_type": "stream",
     "text": [
      "put_codes is [157167252, 157167216, 157167250, 157167251, 157167253]\n"
     ]
    }
   ],
   "source": [
    "put_codes = []\n",
    "for work in record['group']:\n",
    "    put_code = work['work-summary'][0]['put-code']\n",
    "    put_codes.append(put_code)\n",
    "\n",
    "print(f'put_codes is {put_codes}')\n",
    "put_code = put_codes[0]"
   ]
  },
  {
   "cell_type": "markdown",
   "id": "25e5d2aa-5233-486e-abce-a0d07a36c5ce",
   "metadata": {},
   "source": [
    "We use the `/<orcid>/work/<put-code>` endpoint to retrieve the citation information for each record."
   ]
  },
  {
   "cell_type": "code",
   "execution_count": 29,
   "id": "dd797a16-0d91-4271-8e1e-b82579a07e45",
   "metadata": {},
   "outputs": [],
   "source": [
    "citations = []\n",
    "for put_code in put_codes:\n",
    "    response = requests.get('https://pub.orcid.org/v3.0/{}/work/{}'.format(orcid, put_code),\n",
    "                            headers={\"Accept\": \"application/orcid+json\" })\n",
    "    work = response.json()\n",
    "    if work['citation'] is not None:\n",
    "        citations.append(work['citation']['citation-value'])"
   ]
  },
  {
   "cell_type": "code",
   "execution_count": 30,
   "id": "ad763df9-261f-41f3-bc32-00921d0a4e11",
   "metadata": {},
   "outputs": [],
   "source": [
    "with open('output.bib', 'w') as bibfile:\n",
    "    for citation in citations:\n",
    "        bibfile.write(citation)\n",
    "        bibfile.write('\\n')"
   ]
  }
 ],
 "metadata": {
  "kernelspec": {
   "display_name": "base",
   "language": "python",
   "name": "python3"
  },
  "language_info": {
   "codemirror_mode": {
    "name": "ipython",
    "version": 3
   },
   "file_extension": ".py",
   "mimetype": "text/x-python",
   "name": "python",
   "nbconvert_exporter": "python",
   "pygments_lexer": "ipython3",
   "version": "3.10.9"
  }
 },
 "nbformat": 4,
 "nbformat_minor": 5
}
